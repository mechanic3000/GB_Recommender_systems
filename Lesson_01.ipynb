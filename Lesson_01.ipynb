{
  "cells": [
    {
      "cell_type": "markdown",
      "metadata": {
        "id": "view-in-github",
        "colab_type": "text"
      },
      "source": [
        "<a href=\"https://colab.research.google.com/github/mechanic3000/GB_Recommender_systems/blob/Lesson_01/Lesson_01.ipynb\" target=\"_parent\"><img src=\"https://colab.research.google.com/assets/colab-badge.svg\" alt=\"Open In Colab\"/></a>"
      ]
    },
    {
      "cell_type": "markdown",
      "id": "425a10d7-caa9-4f84-abff-f528aeb4ab80",
      "metadata": {
        "id": "425a10d7-caa9-4f84-abff-f528aeb4ab80"
      },
      "source": [
        "# Домашнее задание №1\n",
        "\n",
        "На семинаре мы проходили метрики, необходимо реализовать некоторые из них"
      ]
    },
    {
      "cell_type": "code",
      "execution_count": 1,
      "id": "6f4acf2d-e8a0-469a-8463-6dc26521c554",
      "metadata": {
        "id": "6f4acf2d-e8a0-469a-8463-6dc26521c554"
      },
      "outputs": [],
      "source": [
        "import numpy as np\n",
        "import pandas as pd"
      ]
    },
    {
      "cell_type": "markdown",
      "id": "38a80a25-4ea6-49c9-a0f4-c7fc2a80dcc1",
      "metadata": {
        "id": "38a80a25-4ea6-49c9-a0f4-c7fc2a80dcc1"
      },
      "source": [
        "## Задание 1. Реализовать метрики Recall@k и  Money Recall@k\n",
        "\n",
        "*Recall* - доля рекомендованных товаров среди релевантных = Какой % купленных товаров был среди рекомендованных\n",
        "\n",
        "$$\\Large Recall@K(i) = \\frac {\\sum_{j=1}^{K}\\mathbb{1}_{r_{ij}}}{|Rel_i|}$$\n",
        "\n",
        "$\\Large |Rel_i|$ -- количество релевантных товаров для пользователя $i$\n",
        "\n",
        "$$\\Large MoneyRecall@K(i) = \\frac {\\sum_{j=1}^{K}\\mathbb{1}_{r_{ij}}\\cdot Price(j)}{\\sum_{s\\in Rel_i}Price(s)}$$\n"
      ]
    },
    {
      "cell_type": "code",
      "execution_count": 13,
      "id": "34a7db81-664c-4c9b-92c0-d565fa5487fc",
      "metadata": {
        "id": "34a7db81-664c-4c9b-92c0-d565fa5487fc"
      },
      "outputs": [],
      "source": [
        "def recall_at_k(recommended_list, bought_list, k=5):\n",
        "    \n",
        "    bought_list = np.array(bought_list)\n",
        "    recommended_list = np.array(recommended_list)\n",
        "    \n",
        "    flags = np.isin(bought_list[:k], recommended_list)\n",
        "\n",
        "    recall = flags.sum() / len(bought_list)\n",
        "    \n",
        "    return recall\n",
        "\n",
        "\n",
        "def money_recall_at_k(recommended_list, bought_list, prices_recommended, prices_bought, k=5):\n",
        "    bought_list = np.array(bought_list)\n",
        "    recommended_list = np.array(recommended_list)\n",
        "    prices_recommended = np.array(prices_recommended)\n",
        "    prices_bought = np.array(prices_bought)\n",
        "    \n",
        "    flags = np.isin(bought_list[:k], recommended_list)\n",
        "    \n",
        "    recall = (flags * prices_recommended[:k]).sum() / prices_bought.sum()\n",
        "\n",
        "    return recall"
      ]
    },
    {
      "cell_type": "code",
      "source": [
        "recommended_list = [2234, 143, 156, 1134, 991, 27, 1543, 3345, 533, 11, 43] #id товаров\n",
        "bought_list = [521, 32, 143, 991]\n",
        "prices_recommended = [1430, 15600, 11340, 99100, 2700, 15430, 334500, 5330, 1100, 430]\n",
        "prices_bought = [52100, 3200, 1430, 99100]"
      ],
      "metadata": {
        "id": "T2NvzoBN45q5"
      },
      "id": "T2NvzoBN45q5",
      "execution_count": 57,
      "outputs": []
    },
    {
      "cell_type": "code",
      "source": [
        "recall_at_k(recommended_list, bought_list, k=4)"
      ],
      "metadata": {
        "colab": {
          "base_uri": "https://localhost:8080/"
        },
        "id": "-KPazgeC4-fF",
        "outputId": "857b4907-e8e7-407a-d402-312431b885bb"
      },
      "id": "-KPazgeC4-fF",
      "execution_count": 8,
      "outputs": [
        {
          "output_type": "execute_result",
          "data": {
            "text/plain": [
              "0.5"
            ]
          },
          "metadata": {},
          "execution_count": 8
        }
      ]
    },
    {
      "cell_type": "code",
      "source": [
        "money_recall_at_k(recommended_list, bought_list, prices_recommended, prices_bought, k=4)"
      ],
      "metadata": {
        "colab": {
          "base_uri": "https://localhost:8080/"
        },
        "id": "fGphFyik5beD",
        "outputId": "11da697e-c23d-42e2-ffd0-ae8e200f760d"
      },
      "id": "fGphFyik5beD",
      "execution_count": 19,
      "outputs": [
        {
          "output_type": "execute_result",
          "data": {
            "text/plain": [
              "0.7087210421613297"
            ]
          },
          "metadata": {},
          "execution_count": 19
        }
      ]
    },
    {
      "cell_type": "markdown",
      "id": "b42d4d0d-6073-47b6-ad54-586a477405e5",
      "metadata": {
        "id": "b42d4d0d-6073-47b6-ad54-586a477405e5"
      },
      "source": [
        "## Задание 2. Реализовать метрику MRR@k\n",
        "\n",
        "Mean Reciprocal Rank\n",
        "\n",
        "- Считаем для первых k рекоммендаций\n",
        "- Найти ранк первого релевантного предсказания $\\Large rank_j$\n",
        "- Посчитать reciprocal rank = $\\Large\\frac{1}{rank_j}$\n",
        "\n",
        "$$\\Large  MMR(i)@k=\\frac {1}{\\min\\limits_{j\\in Rel(i)} rank_j}$$"
      ]
    },
    {
      "cell_type": "code",
      "execution_count": 51,
      "id": "9c8940da-3621-4a54-8236-810a42ed4b77",
      "metadata": {
        "id": "9c8940da-3621-4a54-8236-810a42ed4b77"
      },
      "outputs": [],
      "source": [
        "def rr_at_k(recommended_list, bought_list, k=5):\n",
        "\n",
        "    \"\"\" Reciprocal Rank \"\"\"\n",
        "\n",
        "    bought_list = np.array(bought_list)\n",
        "    recommended_list = np.array(recommended_list[:k])\n",
        "    \n",
        "    flags = np.isin(recommended_list, bought_list)\n",
        "    nonzero_flags = np.nonzero(flags)[0]\n",
        "\n",
        "    if len(nonzero_flags) > 0:\n",
        "        return 1.0/(nonzero_flags[0]+1)\n",
        "    else:\n",
        "        return 0.0"
      ]
    },
    {
      "cell_type": "code",
      "source": [
        "rr_at_k(recommended_list, bought_list, k = 10)"
      ],
      "metadata": {
        "colab": {
          "base_uri": "https://localhost:8080/"
        },
        "id": "BYmQcv1xCQXV",
        "outputId": "40112e21-8b57-4961-9c36-43c6a35db6ce"
      },
      "id": "BYmQcv1xCQXV",
      "execution_count": 62,
      "outputs": [
        {
          "output_type": "execute_result",
          "data": {
            "text/plain": [
              "0.5"
            ]
          },
          "metadata": {},
          "execution_count": 62
        }
      ]
    },
    {
      "cell_type": "markdown",
      "id": "1c3008cc-fd9e-44c6-8913-43d71ffb9cd7",
      "metadata": {
        "id": "1c3008cc-fd9e-44c6-8913-43d71ffb9cd7"
      },
      "source": [
        "## Задание 3*. Реализовать метрику nDCG@k\n",
        "Normalized discounted cumulative gain. Эту метрику реализовать будет немного сложнее.\n",
        "\n",
        "$$\\Large DCG@K(i) = \\sum_{j=1}^{K}\\frac{\\mathbb{1}_{r_{ij}}}{\\log_2 (j+1)}$$\n",
        "\n",
        "\n",
        "$\\Large \\mathbb{1}_{r_{ij}}$ -- индикаторная функция показывает что пользователь $i$ провзаимодействовал с продуктом $j$\n",
        "\n",
        "Для подсчета $nDCG$ нам необходимо найти максимально возможный $DCG$ для пользователя $i$  и рекомендаций длины $K$.\n",
        "Максимальный $DCG$ достигается когда мы порекомендовали максимально возможное количество релевантных продуктов и все они в начале списка рекомендаций.\n",
        "\n",
        "$$\\Large IDCG@K(i) = max(DCG@K(i)) = \\sum_{j=1}^{K}\\frac{\\mathbb{1}_{j\\le|Rel_i|}}{\\log_2 (j+1)}$$\n",
        "\n",
        "$$\\Large nDCG@K(i) = \\frac {DCG@K(i)}{IDCG@K(i)}$$\n",
        "\n",
        "$\\Large |Rel_i|$ -- количество релевантных продуктов для пользователя $i$\n",
        "\n"
      ]
    },
    {
      "cell_type": "code",
      "execution_count": 93,
      "id": "67d7e53c-dfd8-4423-a107-f85880a45c7e",
      "metadata": {
        "id": "67d7e53c-dfd8-4423-a107-f85880a45c7e"
      },
      "outputs": [],
      "source": [
        "def ndcg_at_k(recommended_list, bought_list, k=5):\n",
        "    bought_list = np.array(bought_list)\n",
        "    recommended_list = np.array(recommended_list[:k])\n",
        "    \n",
        "    flags = np.isin(recommended_list, bought_list)\n",
        "    non_zero_flags = np.nonzero(flags)[0]\n",
        "    DCG = np.array([1/np.log2(i+2) for i in non_zero_flags]).sum()\n",
        "    iDCG = np.array([1/np.log2(i+2) for i in range(len(recommended_list))]).sum()\n",
        "    nDCG = DCG / iDCG\n",
        "    return nDCG\n",
        "    "
      ]
    },
    {
      "cell_type": "code",
      "source": [
        "ndcg_at_k(recommended_list, bought_list, k = 10)"
      ],
      "metadata": {
        "colab": {
          "base_uri": "https://localhost:8080/"
        },
        "id": "BEx2dKC2JrqO",
        "outputId": "6eae9687-a876-4d25-8a5c-ceead8c95404"
      },
      "id": "BEx2dKC2JrqO",
      "execution_count": 94,
      "outputs": [
        {
          "output_type": "execute_result",
          "data": {
            "text/plain": [
              "0.22400556151517556"
            ]
          },
          "metadata": {},
          "execution_count": 94
        }
      ]
    }
  ],
  "metadata": {
    "kernelspec": {
      "display_name": "Python 3 (ipykernel)",
      "language": "python",
      "name": "python3"
    },
    "language_info": {
      "codemirror_mode": {
        "name": "ipython",
        "version": 3
      },
      "file_extension": ".py",
      "mimetype": "text/x-python",
      "name": "python",
      "nbconvert_exporter": "python",
      "pygments_lexer": "ipython3",
      "version": "3.9.12"
    },
    "colab": {
      "provenance": [],
      "include_colab_link": true
    }
  },
  "nbformat": 4,
  "nbformat_minor": 5
}